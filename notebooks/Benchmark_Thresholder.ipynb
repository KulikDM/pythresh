{
 "cells": [
  {
   "cell_type": "markdown",
   "id": "585850f7",
   "metadata": {},
   "source": [
    "# Benchmark test to evaluate different thresholder performance\n",
    "\n",
    "### The following is a collection of tests that can be used to evaluate different aspects of a thresholders performance with respect to the MCC score. This can be substituted for the F1 score or any other applicable score.\n",
    "\n",
    "The tests covered in this example include:\n",
    "\n",
    "1. **Unit-normalized MCC score for a single OD likelihood and thresholder/s** \n",
    "2. **Unit-normalized MCC score for multiple OD likelihoods and thresholder/s**\n",
    "3. **Comparison between the performance of thresholders with respect to single or multiple OD likelihood/s input**\n",
    "4. **Overprediction with respect to the contamination**\n",
    "5. **Overprediction with respect to the best unit-normalized MCC score**\n",
    "6. **Effects of randmoness on thresholders**\n",
    "7. **Thresholder time complexity performance**"
   ]
  },
  {
   "cell_type": "code",
   "execution_count": 1,
   "id": "377589cd",
   "metadata": {},
   "outputs": [],
   "source": [
    "from __future__ import division\n",
    "from __future__ import print_function\n",
    "\n",
    "import os\n",
    "import sys\n",
    "import warnings\n",
    "from time import time\n",
    "\n",
    "import matplotlib.font_manager\n",
    "import matplotlib.patches as mpatches\n",
    "import matplotlib.pyplot as plt\n",
    "import numpy as np\n",
    "import pandas as pd\n",
    "import scipy.stats as stats\n",
    "from numpy import percentile\n",
    "from pyod.utils.utility import standardizer\n",
    "from pythresh.thresholds.thresh_utility import cut, normalize\n",
    "from scipy.io import loadmat\n",
    "from scipy.optimize import basinhopping\n",
    "from sklearn.metrics import matthews_corrcoef\n",
    "from sklearn.decomposition import TruncatedSVD\n",
    "\n",
    "warnings.filterwarnings(\"ignore\")\n",
    "\n",
    "# Define data file and read X and y\n",
    "mat_file_list = ['arrhythmia.mat',\n",
    "                 'cardio.mat',\n",
    "                 'glass.mat',\n",
    "                 'ionosphere.mat',\n",
    "                 'letter.mat',\n",
    "                 'lympho.mat',\n",
    "                 'mnist.mat',\n",
    "                 'musk.mat',\n",
    "                 'optdigits.mat',\n",
    "                 'pendigits.mat',\n",
    "                 'pima.mat',\n",
    "                 'satellite.mat',\n",
    "                 'satimage-2.mat',\n",
    "                 'vertebral.mat',\n",
    "                 'vowels.mat',\n",
    "                 'wbc.mat']\n",
    "\n",
    "random_state = np.random.RandomState(1234)"
   ]
  },
  {
   "cell_type": "markdown",
   "id": "683c0bbe",
   "metadata": {},
   "source": [
    "### 1. Define Benchmark and Plotting Functions"
   ]
  },
  {
   "cell_type": "code",
   "execution_count": 2,
   "id": "f6e6108d",
   "metadata": {},
   "outputs": [],
   "source": [
    "def negative_mcc_threshold(threshold, scores, y):\n",
    "    '''Caculate the coresponding MCC score'''\n",
    "    \n",
    "    labels = cut(scores, threshold)\n",
    "    return -(matthews_corrcoef(y, labels) + 1)\n",
    "\n",
    "def benchmark(od_models, thresh_models, method='single', compare=False, \n",
    "              overpred=[False, False], verbose=False):\n",
    "    '''MCC benchmarking function with multi-options for different tests\n",
    "\n",
    "       Parameters\n",
    "       ----------\n",
    "\n",
    "       od_models : list\n",
    "            List of one or many uninitialized outlier detection models\n",
    "            e.g. [KNN, GMM]\n",
    "\n",
    "       thresh_models : list\n",
    "            List of one or many initialized thresholders\n",
    "            e.g. [DSN(), CLF()]\n",
    "\n",
    "       method : str, optional (default='single')\n",
    "            Use 'single' to evaluate each OD methods individually,\n",
    "            Use 'multiple' to evaluate the 1D array of decomposed decision scores\n",
    "            from the list of OD methods\n",
    "\n",
    "       compare : bool, optional (default=False)\n",
    "            Return back the single and multiple comparison methods by evaluating\n",
    "            the method against the true labels instead of the contamination labels.\n",
    "            To compare this must be run for both 'single' and 'multiple' individually\n",
    "\n",
    "       overpred : list, optional (default=[False, False])\n",
    "            List of two bools that test for overprediction, the first bool is to \n",
    "            activate the overpred flag the second is to use the best MCC score to\n",
    "            compare to instead of the contamination labels.\n",
    "\n",
    "       verbose : bool, optional (default=False)\n",
    "    \n",
    "    '''\n",
    "\n",
    "    df_columns = ['Data', '#Samples', '# Dimensions', 'Outlier Perc']\n",
    "    df_columns.extend([thr.__class__.__name__ for thr in thresh_models])\n",
    "\n",
    "    df = pd.DataFrame(columns=df_columns)\n",
    "\n",
    "    models = od_models if method=='single' else [1]\n",
    "    \n",
    "    for cl in models:\n",
    "        for mat_file in mat_file_list:\n",
    "            \n",
    "            if verbose:\n",
    "                print(\"\\n... Processing\", mat_file, '...')\n",
    "                \n",
    "            mat = loadmat(os.path.join('data', mat_file))\n",
    "    \n",
    "            X = mat['X']\n",
    "            y = mat['y'].ravel()\n",
    "            outliers_fraction = np.count_nonzero(y) / len(y)\n",
    "            outliers_percentage = round(outliers_fraction * 100, ndigits=4)\n",
    "\n",
    "            # construct containers for saving results\n",
    "            df_list = [mat_file[:-4], X.shape[0], X.shape[1], outliers_percentage]\n",
    "    \n",
    "            X_norm = standardizer(X)\n",
    "\n",
    "            # Apply outlier detection\n",
    "            if method=='single':\n",
    "            \n",
    "                try:\n",
    "                    clf = cl(contamination=outliers_fraction, random_state=1234)\n",
    "                    \n",
    "                except:\n",
    "                    clf = cl(contamination=outliers_fraction)\n",
    "                clf.fit(X_norm)\n",
    "                scores = normalize(clf.decision_scores_)\n",
    "                labels = clf.labels_\n",
    "\n",
    "            # Apply multi outlier detection\n",
    "            else:\n",
    "\n",
    "                scores = []\n",
    "                for od_mod in od_models:\n",
    "                    try:\n",
    "                        clf = od_mod(contamination=outliers_fraction, random_state=1234)\n",
    "        \n",
    "                    except:\n",
    "                        clf = od_mod(contamination=outliers_fraction)\n",
    "                    clf.fit(X_norm)\n",
    "                    scores.append(clf.decision_scores_)\n",
    "                \n",
    "                scores = np.vstack(scores).T\n",
    "                \n",
    "                decomp = TruncatedSVD(n_components=1, random_state=1234)\n",
    "        \n",
    "                decision = decomp.fit_transform(normalize(scores)).squeeze()\n",
    "                scores = normalize(decision)\n",
    "                \n",
    "                thresh_ = np.percentile(decision, 100 * (1 - outliers_fraction))\n",
    "                labels = (decision > thresh_).astype('int').ravel()\n",
    "    \n",
    "            # Compute each thresholder\n",
    "            for thres in thresh_models:\n",
    "                pred = thres.eval(scores)\n",
    "\n",
    "                if compare:\n",
    "                    labels = y\n",
    "\n",
    "                if not overpred[0]:\n",
    "                    df_list.append(round((matthews_corrcoef(y,pred)+1) - \n",
    "                                     (matthews_corrcoef(y,labels)+1), ndigits=4))\n",
    "\n",
    "                else:\n",
    "\n",
    "                    # Find threshold with best MCC\n",
    "                    if overpred[1]:\n",
    "\n",
    "                        minimizer_kwargs = {'method': 'L-BFGS-B', 'args': (scores, y),\n",
    "                                            'bounds': [(np.median(scores), np.max(scores))]}\n",
    "\n",
    "                        result = basinhopping(negative_mcc_threshold,\n",
    "                                               x0=np.mean(scores) + np.std(scores),\n",
    "                                               minimizer_kwargs=minimizer_kwargs,\n",
    "                                               T=1, stepsize=np.var(scores), seed=1234)\n",
    "                        \n",
    "                        best_thresh = result.x\n",
    "                        labels = cut(scores, best_thresh)\n",
    "\n",
    "                    df_list.append(round(np.sum(pred)/np.sum(labels), ndigits=4))\n",
    "\n",
    "            temp_df = pd.DataFrame(df_list).transpose()\n",
    "            temp_df.columns = df_columns\n",
    "            df = pd.concat([df, temp_df], axis=0)\n",
    "\n",
    "    return df\n"
   ]
  },
  {
   "cell_type": "code",
   "execution_count": 3,
   "id": "3b7b81f1-87ea-440d-a81f-96d2c5c4dc6f",
   "metadata": {},
   "outputs": [],
   "source": [
    "def bench_plotter(df, random=False):\n",
    "    '''Standard benchmark plotting function\n",
    "\n",
    "       Parameters\n",
    "       ----------\n",
    "\n",
    "       df : benchmarked dataframe\n",
    "\n",
    "       random : bool, optional (default=False)\n",
    "            Whether to plot the effects of randomness (duplicate \n",
    "            thresholders evaluated for different random states must be provided \n",
    "            in the input dataframe)\n",
    "    '''\n",
    "    \n",
    "    thres = df.columns[4:]\n",
    "\n",
    "    if random:\n",
    "\n",
    "        column_counts = df.columns.value_counts()\n",
    "        common_prefixes = column_counts[column_counts > 1].index\n",
    "\n",
    "        # Iterate through the identified common prefixes\n",
    "        for prefix in common_prefixes:\n",
    "\n",
    "            columns_with_prefix = [col for col in df.columns if col.startswith(prefix)]\n",
    "            \n",
    "            reps = df[columns_with_prefix] * 0.5\n",
    "            randomness = reps.std(axis=1)\n",
    "            \n",
    "            df.drop(columns=columns_with_prefix, inplace=True)\n",
    "            df[prefix] = randomness\n",
    "    \n",
    "    fig = plt.figure(figsize=(14,8))\n",
    "    ls = []\n",
    "    \n",
    "    for col in thres:\n",
    "    \n",
    "        ls.append(np.nanmean(df[col]))\n",
    "    \n",
    "    \n",
    "    idx = np.argsort(ls)\n",
    "    \n",
    "    thres = thres[idx[::-1]]\n",
    "    \n",
    "    j = 0\n",
    "    for i, col in enumerate(thres):\n",
    "\n",
    "        # unit-normalized MCC = (MCC + 1)/2   \n",
    "        if not random:\n",
    "            plt.errorbar([col], [np.nanmean(0.5*df[col])],\n",
    "                         yerr=[np.nanstd(0.5*df[col])],\n",
    "                         fmt='o', capsize=5, label=col)\n",
    "\n",
    "        else:\n",
    "            plt.errorbar([col], [0],\n",
    "                         yerr=[np.nanmean(df[col])],\n",
    "                         fmt='o', capsize=5, label=col)\n",
    "        \n",
    "        # Other optional plotting methods for default benchmarks\n",
    "        #plt.scatter([col]*len(df[col]), 0.5*df[col], s=1, alpha=0)\n",
    "        #plt.violinplot(0.5*df[col], positions=[i], showmeans=True)\n",
    "        #plt.boxplot(0.5*df[col], positions=[i])\n",
    "        #plt.scatter([col], [np.nanmean(0.5*df[col])], s=80)\n",
    "        j += 1\n",
    "    \n",
    "    \n",
    "    plt.xticks(rotation='vertical', weight = 'bold')\n",
    "    plt.margins(x=0.012)\n",
    "    plt.tight_layout(pad=1.5)\n",
    "    plt.show()\n"
   ]
  },
  {
   "cell_type": "code",
   "execution_count": 4,
   "id": "d2814467-c723-4b6b-b7f6-9ad15fa7ce47",
   "metadata": {},
   "outputs": [],
   "source": [
    "def plotter_sing_mult(df_single, df_mult):\n",
    "    '''Plotting function to compare single vs multiple OD\n",
    "\n",
    "       Parameters\n",
    "       ----------\n",
    "\n",
    "       df : single benchmark OD dataframe\n",
    "\n",
    "       df_mult : multiple benchmark OD dataframe\n",
    "    '''\n",
    "    \n",
    "    thres_single = df_single.columns[4:]\n",
    "    thres_mult = df_mult.columns[4:]\n",
    "    \n",
    "    fig = plt.figure(figsize=(14,8))\n",
    "    ls = []\n",
    "    \n",
    "    for col in thres_mult:\n",
    "    \n",
    "        ls.append(np.nanmean(df_mult[col]))\n",
    "    \n",
    "    \n",
    "    idx = np.argsort(ls)\n",
    "    thres = thres_mult[idx[::-1]]\n",
    "\n",
    "    j = 0\n",
    "    for i, col in enumerate(thres):\n",
    "    \n",
    "        # Create vertical dumbbel plots\n",
    "        ratio = ((np.nanmean(0.5*df_mult[col])-np.nanmean(0.5*df_single[col]))/abs(np.nanmean(0.5*df_mult[col])))\n",
    "        mi = min(np.nanmean(0.5*df_mult[col]), np.nanmean(0.5*df_single[col])) + 0.0001 + 0.3\n",
    "        ma = max(np.nanmean(0.5*df_mult[col]), np.nanmean(0.5*df_single[col])) - 0.0001 + 0.3\n",
    "    \n",
    "        plt.vlines([col], [mi], [ma], colors='gray', linewidth=1.5)\n",
    "        plt.scatter([col], [np.nanmean(0.5*df_mult[col])+0.3], c='b', s=30)\n",
    "        plt.scatter([col], [np.nanmean(0.5*df_single[col])+0.3], c='r', s=30)\n",
    "    \n",
    "        plt.annotate(f'{round(ratio*100, 1)}%', (j,ma), textcoords=\"offset points\",\n",
    "                     xytext=(4,8), fontsize=8, ha='center', fontweight='bold')\n",
    "        \n",
    "        j += 1\n",
    "    \n",
    "    color_patch1 = mpatches.Patch(color='red', label='Single')\n",
    "    color_patch2 = mpatches.Patch(color='blue', label='Multiple')\n",
    "    plt.legend(handles=[color_patch1, color_patch2])\n",
    "    \n",
    "    plt.xticks(rotation='vertical', weight = 'bold')\n",
    "    plt.margins(x=0.012)\n",
    "    plt.tight_layout(pad=1.5)\n",
    "    plt.show()\n"
   ]
  },
  {
   "cell_type": "code",
   "execution_count": 5,
   "id": "1c99b494-682e-4ea6-ab01-055dc1561322",
   "metadata": {},
   "outputs": [],
   "source": [
    "def plotter_overpred(df):\n",
    "    '''Plotting function for overprediction\n",
    "\n",
    "       Parameters\n",
    "       ----------\n",
    "\n",
    "       df : benchmarked dataframe\n",
    "    '''\n",
    "    \n",
    "    thres = df.columns[4:]\n",
    "    \n",
    "    fig = plt.figure(figsize=(14,8))\n",
    "    ls = []\n",
    "    \n",
    "    for col in thres:\n",
    "    \n",
    "        val = df[col].values\n",
    "        val[val==0] = 1e-40\n",
    "        ls.append(np.mean(val-1))\n",
    "    \n",
    "    \n",
    "    idx = np.argsort(ls)\n",
    "    \n",
    "    thres = thres[idx[::-1]]\n",
    "    \n",
    "    for i, col in enumerate(thres):\n",
    "    \n",
    "        val = df[col].values\n",
    "        val[val==0] = 1e-40\n",
    "    \n",
    "        hstd = stats.sem(val-1)\n",
    "        plt.bar([col], [np.mean(val-1)], yerr=hstd, capsize=3,\n",
    "                label=col)\n",
    "    \n",
    "    plt.xticks(rotation='vertical')\n",
    "    plt.margins(x=0.015)\n",
    "    plt.tight_layout()\n",
    "    plt.show()\n",
    "    "
   ]
  },
  {
   "cell_type": "markdown",
   "id": "ce6235e0",
   "metadata": {},
   "source": [
    "### 2. Benchmark Function Calls"
   ]
  },
  {
   "cell_type": "code",
   "execution_count": 14,
   "id": "2bb8ab48",
   "metadata": {},
   "outputs": [],
   "source": [
    "from pyod.models.knn import KNN\n",
    "from pyod.models.iforest import IForest\n",
    "from pyod.models.pca import PCA\n",
    "from pyod.models.mcd import MCD\n",
    "from pyod.models.hbos import HBOS\n",
    "from pyod.models.kde import KDE\n",
    "from pyod.models.gmm import GMM\n",
    "from pyod.models.copod import COPOD\n",
    "\n",
    "from pythresh.thresholds.iqr import IQR\n",
    "from pythresh.thresholds.mad import MAD\n",
    "from pythresh.thresholds.fwfm import FWFM\n",
    "from pythresh.thresholds.yj import YJ\n",
    "from pythresh.thresholds.ocsvm import OCSVM\n",
    "from pythresh.thresholds.regr import REGR\n",
    "\n",
    "clfs = [KNN, GMM]\n",
    "thres = [IQR(), MAD()]\n",
    "\n",
    "# Apply single standrd benchmark\n",
    "df = benchmark(clfs, thres, method='single')"
   ]
  },
  {
   "cell_type": "code",
   "execution_count": 15,
   "id": "8c0244eb",
   "metadata": {},
   "outputs": [
    {
     "data": {
      "image/png": "[encoded data removed]",
      "text/plain": [
       "<Figure size 1008x576 with 1 Axes>"
      ]
     },
     "metadata": {
      "needs_background": "light"
     },
     "output_type": "display_data"
    }
   ],
   "source": [
    "bench_plotter(df)"
   ]
  },
  {
   "cell_type": "code",
   "execution_count": 16,
   "id": "2fb618a5-70b7-4938-86c2-86f029e625d2",
   "metadata": {},
   "outputs": [
    {
     "data": {
      "image/png": "[encoded data removed]",
      "text/plain": [
       "<Figure size 1008x576 with 1 Axes>"
      ]
     },
     "metadata": {
      "needs_background": "light"
     },
     "output_type": "display_data"
    }
   ],
   "source": [
    "# Apply multiple standard benchmark\n",
    "df = benchmark(clfs, thres, method='multiple')\n",
    "bench_plotter(df)"
   ]
  },
  {
   "cell_type": "code",
   "execution_count": 8,
   "id": "9b54929a",
   "metadata": {},
   "outputs": [
    {
     "data": {
      "image/png": "[encoded data removed]",
      "text/plain": [
       "<Figure size 1008x576 with 1 Axes>"
      ]
     },
     "metadata": {
      "needs_background": "light"
     },
     "output_type": "display_data"
    }
   ],
   "source": [
    "# Apply compare benchmark between single and multiple\n",
    "df_single = benchmark(clfs, thres, method='single', compare=True)\n",
    "df_mult = benchmark(clfs, thres, method='multiple', compare=True)\n",
    "plotter_sing_mult(df_single, df_mult)"
   ]
  },
  {
   "cell_type": "code",
   "execution_count": 9,
   "id": "0359de2d",
   "metadata": {},
   "outputs": [
    {
     "data": {
      "image/png": "[encoded data removed]",
      "text/plain": [
       "<Figure size 1008x576 with 1 Axes>"
      ]
     },
     "metadata": {
      "needs_background": "light"
     },
     "output_type": "display_data"
    }
   ],
   "source": [
    "# Apply overprediction benchmark\n",
    "df = benchmark(clfs, thres, method='single', overpred=[True, False])\n",
    "plotter_overpred(df)"
   ]
  },
  {
   "cell_type": "code",
   "execution_count": 10,
   "id": "8fb8a2db-b5e1-419b-99b0-4e0230334734",
   "metadata": {},
   "outputs": [
    {
     "data": {
      "image/png": "[encoded data removed]",
      "text/plain": [
       "<Figure size 1008x576 with 1 Axes>"
      ]
     },
     "metadata": {
      "needs_background": "light"
     },
     "output_type": "display_data"
    }
   ],
   "source": [
    "# Apply overprediction benchmark against best MCC\n",
    "df = benchmark(clfs, thres, method='single', overpred=[True, True])\n",
    "plotter_overpred(df)"
   ]
  },
  {
   "cell_type": "code",
   "execution_count": 11,
   "id": "ade7e55f",
   "metadata": {},
   "outputs": [],
   "source": [
    "# Apply effects of randomness benchmark\n",
    "clf = [KNN]\n",
    "thres = [REGR(random_state=1234), REGR(random_state=42), \n",
    "         REGR(random_state=9685), REGR(random_state=111222),\n",
    "         OCSVM(random_state=1234), OCSVM(random_state=42), \n",
    "         OCSVM(random_state=9685), OCSVM(random_state=111222)]\n",
    "\n",
    "df = benchmark(clf, thres, method='single')"
   ]
  },
  {
   "cell_type": "code",
   "execution_count": 12,
   "id": "ef0de5cf",
   "metadata": {},
   "outputs": [
    {
     "data": {
      "image/png": "[encoded data removed]",
      "text/plain": [
       "<Figure size 1008x576 with 1 Axes>"
      ]
     },
     "metadata": {
      "needs_background": "light"
     },
     "output_type": "display_data"
    }
   ],
   "source": [
    "bench_plotter(df, random=True)"
   ]
  },
  {
   "cell_type": "markdown",
   "id": "66714551",
   "metadata": {},
   "source": [
    "### 3. Time Complexity Benchmark"
   ]
  },
  {
   "cell_type": "code",
   "execution_count": 13,
   "id": "0bc3d9ea-093b-45ff-9b63-571e9022ce1a",
   "metadata": {},
   "outputs": [
    {
     "name": "stdout",
     "output_type": "stream",
     "text": [
      "Linearithmic: time = 0.033 + 2.9E-07*n*log(n) (sec)\n"
     ]
    }
   ],
   "source": [
    "from pyod.utils.data import generate_data\n",
    "import big_o # Make sure to install package\n",
    "\n",
    "\n",
    "func = lambda n: n\n",
    "\n",
    "times = []\n",
    "\n",
    "# Define function to calculate big-O number\n",
    "def threshold(size):\n",
    "\n",
    "    contamination = 0.2  # percentage of outliers\n",
    "    n_train = size  # number of training points\n",
    "    n_test = 50  # number of testing points\n",
    "\n",
    "    # Generate sample data\n",
    "    X_train, X_test, y_train, y_test = \\\n",
    "        generate_data(n_train=n_train,\n",
    "                          n_test=n_test,\n",
    "                          n_features=2,\n",
    "                          contamination=contamination,\n",
    "                          random_state=9718)\n",
    "    clf = PCA()\n",
    "    clf.fit(X_train)\n",
    "\n",
    "    y_train_scores = clf.decision_scores_ \n",
    "\n",
    "    thres = IQR()\n",
    "    scores = thres.eval(y_train_scores)\n",
    "\n",
    "# Note that some thresholders have high time complexity, typically ser repeats to 0 or 1 for them\n",
    "best, others = big_o.big_o(threshold, func, min_n=100,\n",
    "                           max_n=10000, n_repeats=5)\n",
    "\n",
    "print(best)"
   ]
  },
  {
   "cell_type": "code",
   "execution_count": null,
   "id": "1473e021-6893-44bc-8f79-bb658582c866",
   "metadata": {},
   "outputs": [],
   "source": []
  }
 ],
 "metadata": {
  "kernelspec": {
   "display_name": "Python 3 (ipykernel)",
   "language": "python",
   "name": "python3"
  },
  "language_info": {
   "codemirror_mode": {
    "name": "ipython",
    "version": 3
   },
   "file_extension": ".py",
   "mimetype": "text/x-python",
   "name": "python",
   "nbconvert_exporter": "python",
   "pygments_lexer": "ipython3",
   "version": "3.9.12"
  }
 },
 "nbformat": 4,
 "nbformat_minor": 5
}
